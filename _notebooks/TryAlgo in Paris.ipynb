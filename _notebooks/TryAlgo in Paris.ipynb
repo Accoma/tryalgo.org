{
 "cells": [
  {
   "cell_type": "code",
   "execution_count": 9,
   "metadata": {
    "collapsed": false
   },
   "outputs": [
    {
     "data": {
      "text/plain": [
       "[(4942, 25, 277), (1079, 13, 113), (2912, 23, 178)]"
      ]
     },
     "execution_count": 9,
     "metadata": {},
     "output_type": "execute_result"
    }
   ],
   "source": [
    "data = open('paris.txt').read().splitlines()\n",
    "N, M, T, C, S = map(int, data[0].split())\n",
    "graphe = [[] for _ in range(N)]\n",
    "for i in range(N + 1, N + M + 1):\n",
    "    a, b, d, c, l = map(int, data[i].split())\n",
    "    graphe[a].append((b, c, l))\n",
    "    if d == 2:\n",
    "        graphe[b].append((a, c, l)) # Build graph\n",
    "graphe[0]"
   ]
  },
  {
   "cell_type": "code",
   "execution_count": 12,
   "metadata": {
    "collapsed": false
   },
   "outputs": [
    {
     "data": {
      "text/plain": [
       "(48.4340431, 0.0973508)"
      ]
     },
     "execution_count": 12,
     "metadata": {},
     "output_type": "execute_result"
    }
   ],
   "source": [
    "from geopy.geocoders import Nominatim\n",
    "\n",
    "api = Nominatim()\n",
    "location = api.geocode('63 avenue du Président-Wilson')\n",
    "location.latitude, location.longitude"
   ]
  },
  {
   "cell_type": "code",
   "execution_count": 13,
   "metadata": {
    "collapsed": false
   },
   "outputs": [],
   "source": [
    "from tryalgo import dijkstra\n",
    "from heapq import heappop, heappush\n",
    "\n",
    "def dijkstra(G, start, target):\n",
    "    heap = [(0, [0], start)] # File à priorité : les sommets sont classés du plus proche au plus lointain\n",
    "    visited = set()\n",
    "    while True:\n",
    "        dv, path, v = heappop(heap) # On pop le sommet le plus proche\n",
    "        if v not in visited:\n",
    "            visited.add(v)\n",
    "            if v == target:\n",
    "                return path\n",
    "            for w, _, delta in G[v]: # Pour chaque voisin du sommet choisi, on ajoute des candidats à la file à priorité\n",
    "                heappush(heap, (dv + delta, path + [w], w))"
   ]
  },
  {
   "cell_type": "code",
   "execution_count": 14,
   "metadata": {
    "collapsed": false
   },
   "outputs": [
    {
     "data": {
      "text/plain": [
       "[0,\n",
       " 2912,\n",
       " 10066,\n",
       " 10586,\n",
       " 4879,\n",
       " 4315,\n",
       " 1982,\n",
       " 3558,\n",
       " 1692,\n",
       " 6848,\n",
       " 4951,\n",
       " 3683,\n",
       " 4936,\n",
       " 2157,\n",
       " 4842,\n",
       " 9677,\n",
       " 2443,\n",
       " 11042,\n",
       " 1525,\n",
       " 6242,\n",
       " 2284,\n",
       " 8380,\n",
       " 3467,\n",
       " 6800,\n",
       " 1116,\n",
       " 2254,\n",
       " 477,\n",
       " 8392,\n",
       " 1415,\n",
       " 5109,\n",
       " 897,\n",
       " 7811,\n",
       " 216,\n",
       " 305,\n",
       " 23,\n",
       " 7939,\n",
       " 9562,\n",
       " 6652,\n",
       " 4511,\n",
       " 9256,\n",
       " 1740,\n",
       " 3868,\n",
       " 3955,\n",
       " 2452,\n",
       " 297,\n",
       " 4800,\n",
       " 10953,\n",
       " 5276,\n",
       " 8646,\n",
       " 4084,\n",
       " 4360,\n",
       " 10860,\n",
       " 8696,\n",
       " 9527,\n",
       " 10394,\n",
       " 4844,\n",
       " 9275,\n",
       " 10916,\n",
       " 2582,\n",
       " 6590,\n",
       " 1381,\n",
       " 5467,\n",
       " 3617,\n",
       " 10763,\n",
       " 10136,\n",
       " 1262,\n",
       " 4035,\n",
       " 961,\n",
       " 10981,\n",
       " 10991,\n",
       " 8485,\n",
       " 1002,\n",
       " 2143,\n",
       " 9109,\n",
       " 10882,\n",
       " 7306,\n",
       " 8517,\n",
       " 2911,\n",
       " 5751,\n",
       " 2311,\n",
       " 4572,\n",
       " 1025,\n",
       " 9529,\n",
       " 2182,\n",
       " 9328,\n",
       " 1851,\n",
       " 2745,\n",
       " 255,\n",
       " 2184,\n",
       " 10297,\n",
       " 10533,\n",
       " 6887,\n",
       " 1966,\n",
       " 10852,\n",
       " 10632,\n",
       " 10061,\n",
       " 4883,\n",
       " 7283,\n",
       " 7295,\n",
       " 2224,\n",
       " 10306,\n",
       " 10957,\n",
       " 7203,\n",
       " 5585,\n",
       " 7375,\n",
       " 1117,\n",
       " 4125,\n",
       " 8871,\n",
       " 3999,\n",
       " 6619,\n",
       " 8204,\n",
       " 2014,\n",
       " 386,\n",
       " 3674]"
      ]
     },
     "execution_count": 14,
     "metadata": {},
     "output_type": "execute_result"
    }
   ],
   "source": [
    "dijkstra(graphe, 0, 3674)"
   ]
  }
 ],
 "metadata": {
  "kernelspec": {
   "display_name": "Python 3",
   "language": "python",
   "name": "python3"
  },
  "language_info": {
   "codemirror_mode": {
    "name": "ipython",
    "version": 3
   },
   "file_extension": ".py",
   "mimetype": "text/x-python",
   "name": "python",
   "nbconvert_exporter": "python",
   "pygments_lexer": "ipython3",
   "version": "3.4.3"
  }
 },
 "nbformat": 4,
 "nbformat_minor": 0
}
